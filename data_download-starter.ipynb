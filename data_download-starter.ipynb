{
 "cells": [
  {
   "cell_type": "markdown",
   "metadata": {},
   "source": [
    "# Store US Stock Prices in HDF5 Format"
   ]
  },
  {
   "cell_type": "markdown",
   "metadata": {},
   "source": [
    "## Imports"
   ]
  },
  {
   "cell_type": "code",
   "execution_count": 1,
   "metadata": {},
   "outputs": [],
   "source": [
    "%matplotlib inline\n",
    "import pandas as pd\n",
    "from zipline.api import order, record, symbol\n",
    "import matplotlib.pyplot as plt"
   ]
  },
  {
   "cell_type": "markdown",
   "metadata": {},
   "source": [
    "## Load source data"
   ]
  },
  {
   "cell_type": "code",
   "execution_count": 2,
   "metadata": {},
   "outputs": [],
   "source": [
    "stock_data = pd.read_csv('WIKI_PRICES.csv')"
   ]
  },
  {
   "cell_type": "markdown",
   "metadata": {},
   "source": [
    "## Apply required transformations"
   ]
  },
  {
   "cell_type": "code",
   "execution_count": 3,
   "metadata": {},
   "outputs": [],
   "source": [
    "required_stock_data = stock_data\n",
    "required_stock_data['date'] = pd.to_datetime(required_stock_data['date'])\n",
    "required_stock_data = required_stock_data[required_stock_data['date']> '2000-01-01']"
   ]
  },
  {
   "cell_type": "code",
   "execution_count": 4,
   "metadata": {},
   "outputs": [],
   "source": [
    "required_stock_data2 = required_stock_data.set_index(['ticker','date'])\n",
    "\n",
    "select_cols = ['adj_open','adj_high','adj_low','adj_close', 'adj_volume']\n",
    "required_stock_data2 = required_stock_data2[select_cols]\n",
    "\n",
    "rename_dict = {\n",
    "    'adj_open': 'open'\n",
    "    ,'adj_high':'high'\n",
    "    ,'adj_low': 'low'\n",
    "    ,'adj_close':'close'\n",
    "    ,'adj_volume': 'volume'\n",
    "    ,'ticker': 'ticker'\n",
    "    ,'date': 'date'\n",
    "}\n",
    "\n",
    "required_stock_data2.rename(columns = rename_dict, inplace=True)"
   ]
  },
  {
   "cell_type": "markdown",
   "metadata": {},
   "source": [
    "## Plot data"
   ]
  },
  {
   "cell_type": "code",
   "execution_count": 5,
   "metadata": {},
   "outputs": [
    {
     "data": {
      "text/html": [
       "<div>\n",
       "<style scoped>\n",
       "    .dataframe tbody tr th:only-of-type {\n",
       "        vertical-align: middle;\n",
       "    }\n",
       "\n",
       "    .dataframe tbody tr th {\n",
       "        vertical-align: top;\n",
       "    }\n",
       "\n",
       "    .dataframe thead th {\n",
       "        text-align: right;\n",
       "    }\n",
       "</style>\n",
       "<table border=\"1\" class=\"dataframe\">\n",
       "  <thead>\n",
       "    <tr style=\"text-align: right;\">\n",
       "      <th></th>\n",
       "      <th></th>\n",
       "      <th>open</th>\n",
       "      <th>high</th>\n",
       "      <th>low</th>\n",
       "      <th>close</th>\n",
       "      <th>volume</th>\n",
       "    </tr>\n",
       "    <tr>\n",
       "      <th>ticker</th>\n",
       "      <th>date</th>\n",
       "      <th></th>\n",
       "      <th></th>\n",
       "      <th></th>\n",
       "      <th></th>\n",
       "      <th></th>\n",
       "    </tr>\n",
       "  </thead>\n",
       "  <tbody>\n",
       "    <tr>\n",
       "      <th rowspan=\"11\" valign=\"top\">AAPL</th>\n",
       "      <th>2000-01-03</th>\n",
       "      <td>3.369314</td>\n",
       "      <td>3.614454</td>\n",
       "      <td>3.267146</td>\n",
       "      <td>3.596463</td>\n",
       "      <td>133949200.0</td>\n",
       "    </tr>\n",
       "    <tr>\n",
       "      <th>2000-01-04</th>\n",
       "      <td>3.477908</td>\n",
       "      <td>3.554053</td>\n",
       "      <td>3.251081</td>\n",
       "      <td>3.293170</td>\n",
       "      <td>128094400.0</td>\n",
       "    </tr>\n",
       "    <tr>\n",
       "      <th>2000-01-05</th>\n",
       "      <td>3.333330</td>\n",
       "      <td>3.552125</td>\n",
       "      <td>3.309234</td>\n",
       "      <td>3.341362</td>\n",
       "      <td>194580400.0</td>\n",
       "    </tr>\n",
       "    <tr>\n",
       "      <th>2000-01-06</th>\n",
       "      <td>3.409475</td>\n",
       "      <td>3.437748</td>\n",
       "      <td>3.052206</td>\n",
       "      <td>3.052206</td>\n",
       "      <td>191993200.0</td>\n",
       "    </tr>\n",
       "    <tr>\n",
       "      <th>2000-01-07</th>\n",
       "      <td>3.100399</td>\n",
       "      <td>3.244977</td>\n",
       "      <td>3.068270</td>\n",
       "      <td>3.196784</td>\n",
       "      <td>115183600.0</td>\n",
       "    </tr>\n",
       "    <tr>\n",
       "      <th>...</th>\n",
       "      <td>...</td>\n",
       "      <td>...</td>\n",
       "      <td>...</td>\n",
       "      <td>...</td>\n",
       "      <td>...</td>\n",
       "    </tr>\n",
       "    <tr>\n",
       "      <th>2018-03-21</th>\n",
       "      <td>175.040000</td>\n",
       "      <td>175.090000</td>\n",
       "      <td>171.260000</td>\n",
       "      <td>171.270000</td>\n",
       "      <td>35247358.0</td>\n",
       "    </tr>\n",
       "    <tr>\n",
       "      <th>2018-03-22</th>\n",
       "      <td>170.000000</td>\n",
       "      <td>172.680000</td>\n",
       "      <td>168.600000</td>\n",
       "      <td>168.845000</td>\n",
       "      <td>41051076.0</td>\n",
       "    </tr>\n",
       "    <tr>\n",
       "      <th>2018-03-23</th>\n",
       "      <td>168.390000</td>\n",
       "      <td>169.920000</td>\n",
       "      <td>164.940000</td>\n",
       "      <td>164.940000</td>\n",
       "      <td>40248954.0</td>\n",
       "    </tr>\n",
       "    <tr>\n",
       "      <th>2018-03-26</th>\n",
       "      <td>168.070000</td>\n",
       "      <td>173.100000</td>\n",
       "      <td>166.440000</td>\n",
       "      <td>172.770000</td>\n",
       "      <td>36272617.0</td>\n",
       "    </tr>\n",
       "    <tr>\n",
       "      <th>2018-03-27</th>\n",
       "      <td>173.680000</td>\n",
       "      <td>175.150000</td>\n",
       "      <td>166.920000</td>\n",
       "      <td>168.340000</td>\n",
       "      <td>38962839.0</td>\n",
       "    </tr>\n",
       "  </tbody>\n",
       "</table>\n",
       "<p>4585 rows × 5 columns</p>\n",
       "</div>"
      ],
      "text/plain": [
       "                         open        high         low       close       volume\n",
       "ticker date                                                                   \n",
       "AAPL   2000-01-03    3.369314    3.614454    3.267146    3.596463  133949200.0\n",
       "       2000-01-04    3.477908    3.554053    3.251081    3.293170  128094400.0\n",
       "       2000-01-05    3.333330    3.552125    3.309234    3.341362  194580400.0\n",
       "       2000-01-06    3.409475    3.437748    3.052206    3.052206  191993200.0\n",
       "       2000-01-07    3.100399    3.244977    3.068270    3.196784  115183600.0\n",
       "...                       ...         ...         ...         ...          ...\n",
       "       2018-03-21  175.040000  175.090000  171.260000  171.270000   35247358.0\n",
       "       2018-03-22  170.000000  172.680000  168.600000  168.845000   41051076.0\n",
       "       2018-03-23  168.390000  169.920000  164.940000  164.940000   40248954.0\n",
       "       2018-03-26  168.070000  173.100000  166.440000  172.770000   36272617.0\n",
       "       2018-03-27  173.680000  175.150000  166.920000  168.340000   38962839.0\n",
       "\n",
       "[4585 rows x 5 columns]"
      ]
     },
     "execution_count": 5,
     "metadata": {},
     "output_type": "execute_result"
    }
   ],
   "source": [
    "required_stock_data2[required_stock_data2.index.get_level_values('ticker') =='AAPL']"
   ]
  },
  {
   "cell_type": "code",
   "execution_count": 6,
   "metadata": {},
   "outputs": [
    {
     "data": {
      "text/plain": [
       "<AxesSubplot:xlabel='ticker'>"
      ]
     },
     "execution_count": 6,
     "metadata": {},
     "output_type": "execute_result"
    },
    {
     "data": {
      "image/png": "[encoded data removed]",
      "text/plain": [
       "<Figure size 640x480 with 1 Axes>"
      ]
     },
     "metadata": {},
     "output_type": "display_data"
    }
   ],
   "source": [
    "# plot Apple closing price\n",
    "plot_data = required_stock_data2[required_stock_data2.index.get_level_values('ticker') =='AAPL']['close'].reset_index('date', drop=True)\n",
    "plot_data.plot()"
   ]
  },
  {
   "cell_type": "markdown",
   "metadata": {},
   "source": [
    "## Store in HDF5 format"
   ]
  },
  {
   "cell_type": "code",
   "execution_count": 7,
   "metadata": {},
   "outputs": [],
   "source": [
    "required_stock_data2.to_hdf('stock_data.h5', key='data')"
   ]
  },
  {
   "cell_type": "code",
   "execution_count": 8,
   "metadata": {},
   "outputs": [
    {
     "data": {
      "text/html": [
       "<div>\n",
       "<style scoped>\n",
       "    .dataframe tbody tr th:only-of-type {\n",
       "        vertical-align: middle;\n",
       "    }\n",
       "\n",
       "    .dataframe tbody tr th {\n",
       "        vertical-align: top;\n",
       "    }\n",
       "\n",
       "    .dataframe thead th {\n",
       "        text-align: right;\n",
       "    }\n",
       "</style>\n",
       "<table border=\"1\" class=\"dataframe\">\n",
       "  <thead>\n",
       "    <tr style=\"text-align: right;\">\n",
       "      <th></th>\n",
       "      <th></th>\n",
       "      <th>open</th>\n",
       "      <th>high</th>\n",
       "      <th>low</th>\n",
       "      <th>close</th>\n",
       "      <th>volume</th>\n",
       "    </tr>\n",
       "    <tr>\n",
       "      <th>ticker</th>\n",
       "      <th>date</th>\n",
       "      <th></th>\n",
       "      <th></th>\n",
       "      <th></th>\n",
       "      <th></th>\n",
       "      <th></th>\n",
       "    </tr>\n",
       "  </thead>\n",
       "  <tbody>\n",
       "    <tr>\n",
       "      <th rowspan=\"5\" valign=\"top\">A</th>\n",
       "      <th>2000-01-03</th>\n",
       "      <td>53.726454</td>\n",
       "      <td>53.856080</td>\n",
       "      <td>45.969377</td>\n",
       "      <td>49.121329</td>\n",
       "      <td>3343600.0</td>\n",
       "    </tr>\n",
       "    <tr>\n",
       "      <th>2000-01-04</th>\n",
       "      <td>46.481058</td>\n",
       "      <td>46.992738</td>\n",
       "      <td>44.175084</td>\n",
       "      <td>45.369006</td>\n",
       "      <td>3408500.0</td>\n",
       "    </tr>\n",
       "    <tr>\n",
       "      <th>2000-01-05</th>\n",
       "      <td>45.198445</td>\n",
       "      <td>45.239380</td>\n",
       "      <td>41.828176</td>\n",
       "      <td>41.998737</td>\n",
       "      <td>4119200.0</td>\n",
       "    </tr>\n",
       "    <tr>\n",
       "      <th>2000-01-06</th>\n",
       "      <td>42.046493</td>\n",
       "      <td>42.298923</td>\n",
       "      <td>39.658651</td>\n",
       "      <td>40.934441</td>\n",
       "      <td>1812900.0</td>\n",
       "    </tr>\n",
       "    <tr>\n",
       "      <th>2000-01-07</th>\n",
       "      <td>40.293135</td>\n",
       "      <td>44.986951</td>\n",
       "      <td>40.252200</td>\n",
       "      <td>44.345645</td>\n",
       "      <td>2016900.0</td>\n",
       "    </tr>\n",
       "  </tbody>\n",
       "</table>\n",
       "</div>"
      ],
      "text/plain": [
       "                        open       high        low      close     volume\n",
       "ticker date                                                             \n",
       "A      2000-01-03  53.726454  53.856080  45.969377  49.121329  3343600.0\n",
       "       2000-01-04  46.481058  46.992738  44.175084  45.369006  3408500.0\n",
       "       2000-01-05  45.198445  45.239380  41.828176  41.998737  4119200.0\n",
       "       2000-01-06  42.046493  42.298923  39.658651  40.934441  1812900.0\n",
       "       2000-01-07  40.293135  44.986951  40.252200  44.345645  2016900.0"
      ]
     },
     "execution_count": 8,
     "metadata": {},
     "output_type": "execute_result"
    }
   ],
   "source": [
    "required_stock_data2=pd.read_hdf('stock_data.h5', key='data')\n",
    "required_stock_data2.head()"
   ]
  }
 ],
 "metadata": {
  "kernelspec": {
   "display_name": "Python 3 (ipykernel)",
   "language": "python",
   "name": "python3"
  },
  "language_info": {
   "codemirror_mode": {
    "name": "ipython",
    "version": 3
   },
   "file_extension": ".py",
   "mimetype": "text/x-python",
   "name": "python",
   "nbconvert_exporter": "python",
   "pygments_lexer": "ipython3",
   "version": "3.7.16"
  },
  "toc": {
   "base_numbering": 1,
   "nav_menu": {},
   "number_sections": true,
   "sideBar": true,
   "skip_h1_title": false,
   "title_cell": "Table of Contents",
   "title_sidebar": "Contents",
   "toc_cell": false,
   "toc_position": {},
   "toc_section_display": true,
   "toc_window_display": false
  }
 },
 "nbformat": 4,
 "nbformat_minor": 4
}
