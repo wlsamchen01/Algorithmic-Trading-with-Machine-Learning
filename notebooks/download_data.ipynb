{
  "nbformat": 4,
  "nbformat_minor": 0,
  "metadata": {
    "colab": {
      "provenance": [],
      "authorship_tag": "ABX9TyNlsjC4ZCmiPqVGAtVbEl+s",
      "include_colab_link": true
    },
    "kernelspec": {
      "name": "python3",
      "display_name": "Python 3"
    },
    "language_info": {
      "name": "python"
    }
  },
  "cells": [
    {
      "cell_type": "markdown",
      "metadata": {
        "id": "view-in-github",
        "colab_type": "text"
      },
      "source": [
        "<a href=\"https://colab.research.google.com/github/wlsamchen01/Algorithmic-Trading-with-Machine-Learning/blob/main/notebooks/download_data.ipynb\" target=\"_parent\"><img src=\"https://colab.research.google.com/assets/colab-badge.svg\" alt=\"Open In Colab\"/></a>"
      ]
    },
    {
      "cell_type": "code",
      "execution_count": 1,
      "metadata": {
        "colab": {
          "base_uri": "https://localhost:8080/",
          "height": 298
        },
        "id": "0tHPCfcFCTvz",
        "outputId": "1a5a9826-48fb-4be8-997b-b8fe5933bee3"
      },
      "outputs": [
        {
          "output_type": "stream",
          "name": "stderr",
          "text": [
            "/usr/local/lib/python3.10/dist-packages/gdown/parse_url.py:35: UserWarning: You specified a Google Drive link that is not the correct link to download a file. You might want to try `--fuzzy` option or the following url: https://drive.google.com/uc?id=None\n",
            "  warnings.warn(\n",
            "Downloading...\n",
            "From: https://drive.google.com/file/d/1-JAEwkNVeqWVgmfQufhO0G0VIHR1e3F6/\n",
            "To: /content/forecast_demand_clean_df.csv\n",
            "80.3kB [00:00, 20.9MB/s]\n",
            "Downloading...\n",
            "From: https://drive.google.com/file/d/1-Jnc_8xuH-5cT9AZLNimEtwd0Lgctthq/\n",
            "To: /content/temper_clean_df.csv\n",
            "80.2kB [00:00, 36.3MB/s]\n",
            "Downloading...\n",
            "From: https://drive.google.com/file/d/1-K1xGcbXHSsSOITYtMeNqtS8cJeJkO-t/\n",
            "To: /content/actual_deman_clean_df.csv\n",
            "80.3kB [00:00, 38.5MB/s]\n"
          ]
        },
        {
          "output_type": "execute_result",
          "data": {
            "text/plain": [
              "'actual_deman_clean_df.csv'"
            ],
            "application/vnd.google.colaboratory.intrinsic+json": {
              "type": "string"
            }
          },
          "metadata": {},
          "execution_count": 1
        }
      ],
      "source": [
        "import gdown\n",
        "\n",
        "\n",
        "forecast_file_url = \"https://drive.google.com/file/d/1-JAEwkNVeqWVgmfQufhO0G0VIHR1e3F6/\"\n",
        "temp_file_url = \"https://drive.google.com/file/d/1-Jnc_8xuH-5cT9AZLNimEtwd0Lgctthq/\"\n",
        "actual_demand_file_url = \"https://drive.google.com/file/d/1-K1xGcbXHSsSOITYtMeNqtS8cJeJkO-t/\"\n",
        "\n",
        "output = 'forecast_demand_clean_df.csv'\n",
        "gdown.download(forecast_file_url, output, quiet=False)\n",
        "\n",
        "\n",
        "output = 'temper_clean_df.csv'\n",
        "gdown.download(temp_file_url, output, quiet=False)\n",
        "\n",
        "\n",
        "output = 'actual_deman_clean_df.csv'\n",
        "gdown.download(actual_demand_file_url, output, quiet=False)\n"
      ]
    }
  ]
}